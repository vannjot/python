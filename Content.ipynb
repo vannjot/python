{
 "cells": [
  {
   "cell_type": "markdown",
   "metadata": {},
   "source": [
    "# Python\n",
    "\n",
    "## This course is about:\n",
    "\n",
    "- The Python language and the `built in types`.\n",
    "- The `Standard Library`\n",
    "- Becoming an `expert` Python Developer.\n",
    "- `Idiomatic` Python"
   ]
  },
  {
   "cell_type": "code",
   "execution_count": 1,
   "metadata": {},
   "outputs": [
    {
     "name": "stdout",
     "output_type": "stream",
     "text": [
      "The Zen of Python, by Tim Peters\n",
      "\n",
      "Beautiful is better than ugly.\n",
      "Explicit is better than implicit.\n",
      "Simple is better than complex.\n",
      "Complex is better than complicated.\n",
      "Flat is better than nested.\n",
      "Sparse is better than dense.\n",
      "Readability counts.\n",
      "Special cases aren't special enough to break the rules.\n",
      "Although practicality beats purity.\n",
      "Errors should never pass silently.\n",
      "Unless explicitly silenced.\n",
      "In the face of ambiguity, refuse the temptation to guess.\n",
      "There should be one-- and preferably only one --obvious way to do it.\n",
      "Although that way may not be obvious at first unless you're Dutch.\n",
      "Now is better than never.\n",
      "Although never is often better than *right* now.\n",
      "If the implementation is hard to explain, it's a bad idea.\n",
      "If the implementation is easy to explain, it may be a good idea.\n",
      "Namespaces are one honking great idea -- let's do more of those!\n"
     ]
    }
   ],
   "source": [
    "import this"
   ]
  },
  {
   "cell_type": "markdown",
   "metadata": {},
   "source": [
    "# Things to be covered in the course"
   ]
  },
  {
   "cell_type": "markdown",
   "metadata": {},
   "source": [
    "## Quick Refresher\n",
    "- Python's type hierarchy\n",
    "- Variables\n",
    "- Conditionals\n",
    "- Functions\n",
    "- Loops\n",
    "- break, continue and try\n",
    "- classes"
   ]
  },
  {
   "cell_type": "markdown",
   "metadata": {},
   "source": [
    "## Variables and Memory\n",
    "- what are variables ?\n",
    "- memory\n",
    "- Python memory management -> reference counting, garbage collection\n",
    "- mutability -> function arguments, shared references\n",
    "- what is equality of two objects?\n",
    "- Python memory optimizations -> interning, peephole"
   ]
  },
  {
   "cell_type": "markdown",
   "metadata": {},
   "source": [
    "## Numeric Types\n",
    "\n",
    "- integers\n",
    "- rationals\n",
    "- floats -> binary representations, exactness, rounding, equality, measures of closeness, approximate equality\n",
    "- Decimals ->alternative to floats, exactness, precision, rounding\n",
    "- complex numbers ->`cmath` standard library\n"
   ]
  },
  {
   "cell_type": "markdown",
   "metadata": {},
   "source": [
    "## Numeric Types - Booleans\n",
    "\n",
    "- associated Truth values -> every object has one\n",
    "- precedence and short-circuiting\n",
    "- Boolean operators -> what they `really` do, using in context of associated truth values\n",
    "- comparison operators -> identity, value equalities, ordering"
   ]
  },
  {
   "cell_type": "markdown",
   "metadata": {},
   "source": [
    "# Functions\n",
    "\n",
    "- higher-order functions\n",
    "- docstrings and annotations\n",
    "- Lambdas\n",
    "- introspection\n",
    "- functional programming \n",
    "                         -> map, filter, zip\n",
    "                         -> reducing functions\n",
    "                         -> partial functions"
   ]
  },
  {
   "cell_type": "markdown",
   "metadata": {},
   "source": [
    "## Functions - Arguments\n",
    "\n",
    "- positional arguments\n",
    "- keyword-only arguments\n",
    "- default values -> caveats\n",
    "- packing and unpacking\n",
    "- variable positional arguments\n",
    "- variable keyword-only arguments"
   ]
  },
  {
   "cell_type": "markdown",
   "metadata": {},
   "source": [
    "# Functions - Scopes and Closures\n",
    "\n",
    "- global and local scopes\n",
    "- nested scopes\n",
    "- closures\n",
    "- nested closures"
   ]
  },
  {
   "cell_type": "markdown",
   "metadata": {},
   "source": [
    "## Decorators\n",
    "\n",
    "- decorators\n",
    "- nested decorators\n",
    "- parametrized decorators\n",
    "- stacked decorators\n",
    "- class decorators\n",
    "- decorator classes\n",
    "- applications -> memoization, single dispatch, logging, timing\n"
   ]
  },
  {
   "cell_type": "markdown",
   "metadata": {},
   "source": [
    "## Tuples as Data Structures\n",
    "\n",
    "- tuples are not just read-only lists\n",
    "- data structures\n",
    "- packing and unpacking\n",
    "- named tuples\n",
    "- augmenting named tuples"
   ]
  },
  {
   "cell_type": "markdown",
   "metadata": {},
   "source": [
    "## Modules, Packages and Namespaces\n",
    "\n",
    "- what are modules?\n",
    "- what are packages?\n",
    "- how do various imports works?\n",
    "- how to manipulate namespaces using packages\n",
    "- zip archives\n",
    "- \\_\\_main\\_\\_"
   ]
  },
  {
   "cell_type": "markdown",
   "metadata": {},
   "source": [
    "## Extras\n",
    "\n",
    "- will keep growing with time.\n",
    "- important new features of Python 3.6 and later\n",
    "- best practices\n",
    "- random collection of interesting stuff\n",
    "- additional resources\n"
   ]
  }
 ],
 "metadata": {
  "kernelspec": {
   "display_name": "Python 3",
   "language": "python",
   "name": "python3"
  },
  "language_info": {
   "codemirror_mode": {
    "name": "ipython",
    "version": 3
   },
   "file_extension": ".py",
   "mimetype": "text/x-python",
   "name": "python",
   "nbconvert_exporter": "python",
   "pygments_lexer": "ipython3",
   "version": "3.7.3"
  }
 },
 "nbformat": 4,
 "nbformat_minor": 2
}
