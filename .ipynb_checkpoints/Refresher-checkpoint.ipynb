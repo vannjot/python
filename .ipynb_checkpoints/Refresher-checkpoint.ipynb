{
 "cells": [
  {
   "cell_type": "markdown",
   "metadata": {},
   "source": [
    "# Quick Refresher\n",
    "\n",
    "- Python Type Hierarchy\n",
    "- Multi-Line Statements and Strings\n",
    "- Naming Conventions\n",
    "- Conditionals\n",
    "- Functions\n",
    "- Loops -> While, For, Break, Continue, Try"
   ]
  },
  {
   "cell_type": "markdown",
   "metadata": {},
   "source": [
    "## Python Type Hierarchy\n",
    "\n",
    "The following is a `subset` of python type hierarchy that we will cover in this notebook:\n",
    "\n",
    "![](./images/img1.jpg)"
   ]
  },
  {
   "cell_type": "markdown",
   "metadata": {},
   "source": [
    "## <center>Collections</center>\n",
    "![](./images/img2.jpg)\n",
    "\n",
    "_Dictionaries and sets are related, they are implemented very similarly. Both sets and dictionaries are basically hash maps. The only difference is that sets are not key value pairs, it is like having a dictionay which have only keys but no values.\n",
    "We will be covering sets and dictionaries in a later section._"
   ]
  },
  {
   "cell_type": "markdown",
   "metadata": {},
   "source": [
    "## Callables\n",
    "\n",
    "- User-defined functions\n",
    "- Generators\n",
    "- Classes\n",
    "- Instance Methods\n",
    "- Class Instances (\\_\\_call\\_\\_()) -> this allows the class instance to become callable\n",
    "- Built-in Functions (e.g. len(), open())\n",
    "- Built-in Methods (e.g. my_list.append(x))\n",
    "\n",
    "## Singletons\n",
    "\n",
    "- None   (None is an object that exist and whenever you set a variable to None, it always points back to the same memory       address that we have for the None object)\n",
    "\n",
    "- NotImplemented\n",
    "\n",
    "- Ellipsis(...)\n",
    "\n"
   ]
  },
  {
   "cell_type": "markdown",
   "metadata": {},
   "source": [
    "## Multi-line Statements and Strings\n",
    "![](./images/img3.jpg)\n",
    "\n",
    "### physical newline vs logical newline\n",
    "\n",
    "- sometimes, `physical newlines are ignored`\n",
    "- in order to `combine multiple physical lines`\n",
    "- into a `single logical line of code`\n",
    "- terminated by logical `NEWLINE` token\n",
    "\n",
    "_This allows us to write code over multiple lines that technically should be written as a singlel line, all of this is done to allow us to make our code easy to read. It is really important to make your code readable and this allows you to do it._\n",
    "\n",
    "- This conversion between physical newline and logical newline can be `implicit` or `explicit`."
   ]
  },
  {
   "cell_type": "markdown",
   "metadata": {},
   "source": [
    "### Implicit\n",
    "\n",
    "- Expressions in:\n",
    "    \n",
    "    - list literals: []\n",
    "     ``` e.g.\n",
    "       [1,\n",
    "       2,\n",
    "       3]\n",
    "         -we can write the elements of list in physical newlines, these physical newlines will be implicitly removed by the python.  \n",
    "         - we can also include inline comments\n",
    "         [1, # item 1\n",
    "         2,  # item 2\n",
    "         3   # item 3\n",
    "         ]\n",
    "         - these inline comments will be stripped off by the python interpreter\n",
    "     ```\n",
    "    - tuple literals: ()\n",
    "    - dictionary literals: {}\n",
    "    - set literals: {}\n",
    "    - function arguments/ parameters: \n",
    "    \n",
    "    ````e.g.\n",
    "    \n",
    "        def my_func(a,\n",
    "                    b, #comment\n",
    "                    c):\n",
    "            print(a, b, c)\n",
    "         \n",
    "        - you can do the same thing while calling the function.\n",
    "    \n",
    "        my_func(10, #comment\n",
    "                20,30)\n",
    "    ````\n",
    "    \n",
    "     - supports inline comments"
   ]
  },
  {
   "cell_type": "markdown",
   "metadata": {},
   "source": [
    "### Explicit\n",
    "\n",
    "- You can break up statements over multiple lines `explicitly`, by using `\\(backslash)` character.\n",
    "- Multi-line statements are not implicitly converted to a single logical line.\n",
    "\n",
    "```\n",
    "        if a \\\n",
    "           and b \\\n",
    "           and c:\n",
    "```\n",
    "- Comments `cannot` be part of a statement, not even a multi-line statement.\n",
    "- if you have to put a comment you can put it above, below or right after the : in the last line.\n",
    "```\n",
    "        if a \\\n",
    "           and b \\ #comment\n",
    "           and c:\n",
    "```\n",
    "- the above block of code is not legal, it won't work."
   ]
  },
  {
   "cell_type": "markdown",
   "metadata": {},
   "source": [
    "## Multi-line String Literals\n",
    "\n",
    "- Multi-line string literals can be created using triple delimiters(' single or \" double)\n",
    "```\n",
    "            ''' This is\n",
    "            a multi-line string'''\n",
    "```\n",
    "\n",
    "```\n",
    "            \"\"\" This is\n",
    "            a multi-line string\"\"\"\n",
    "\n",
    "```\n",
    "- Beaware that non-visible characters such as newlines, tabs etc. are actually part of the string- basically anything you type.\n",
    "- You can use escaped characters(e.g. \\n, \\t), use string formatting etc.\n",
    "- A multi-line string is just a regular string.\n",
    "- Multi-line strings are not comments, although they can be used as such, especially with special comments called `docstrings`."
   ]
  },
  {
   "cell_type": "code",
   "execution_count": 5,
   "metadata": {},
   "outputs": [],
   "source": [
    "a = [1, 2, 3]"
   ]
  },
  {
   "cell_type": "code",
   "execution_count": 6,
   "metadata": {},
   "outputs": [],
   "source": [
    "a = [1, \n",
    "    2, \n",
    "    3]"
   ]
  },
  {
   "cell_type": "code",
   "execution_count": 7,
   "metadata": {},
   "outputs": [
    {
     "data": {
      "text/plain": [
       "[1, 2, 3]"
      ]
     },
     "execution_count": 7,
     "metadata": {},
     "output_type": "execute_result"
    }
   ],
   "source": [
    "a"
   ]
  },
  {
   "cell_type": "code",
   "execution_count": 8,
   "metadata": {},
   "outputs": [],
   "source": [
    "#be careful where you placec the , \n",
    "a = [1, #item 1\n",
    "    2]"
   ]
  },
  {
   "cell_type": "code",
   "execution_count": 9,
   "metadata": {},
   "outputs": [],
   "source": [
    "a = [1 #item 1\n",
    "    ,2]"
   ]
  },
  {
   "cell_type": "code",
   "execution_count": 11,
   "metadata": {},
   "outputs": [],
   "source": [
    "a = (1, #comment 1\n",
    "    2, #comment 2\n",
    "    3)"
   ]
  },
  {
   "cell_type": "code",
   "execution_count": 13,
   "metadata": {},
   "outputs": [
    {
     "data": {
      "text/plain": [
       "(1, 2, 3)"
      ]
     },
     "execution_count": 13,
     "metadata": {},
     "output_type": "execute_result"
    }
   ],
   "source": [
    "a"
   ]
  },
  {
   "cell_type": "code",
   "execution_count": 14,
   "metadata": {},
   "outputs": [],
   "source": [
    "a = {'key1' : 1 #value for key 1\n",
    "    , 'key2' : 2 #value for key 2\n",
    "    }"
   ]
  },
  {
   "cell_type": "code",
   "execution_count": 15,
   "metadata": {},
   "outputs": [
    {
     "data": {
      "text/plain": [
       "{'key1': 1, 'key2': 2}"
      ]
     },
     "execution_count": 15,
     "metadata": {},
     "output_type": "execute_result"
    }
   ],
   "source": [
    "a"
   ]
  },
  {
   "cell_type": "code",
   "execution_count": 16,
   "metadata": {},
   "outputs": [],
   "source": [
    "def my_func(a, # this is used to indicate velocity\n",
    "            b, # this is used to indicate height\n",
    "            c):\n",
    "    print(a, b, c)"
   ]
  },
  {
   "cell_type": "code",
   "execution_count": 17,
   "metadata": {},
   "outputs": [
    {
     "name": "stdout",
     "output_type": "stream",
     "text": [
      "10 20 30\n"
     ]
    }
   ],
   "source": [
    "my_func(10, \n",
    "       20, \n",
    "       30)"
   ]
  },
  {
   "cell_type": "code",
   "execution_count": 18,
   "metadata": {},
   "outputs": [
    {
     "name": "stdout",
     "output_type": "stream",
     "text": [
      "10 20 30\n"
     ]
    }
   ],
   "source": [
    "my_func(10, #comment\n",
    "       20, #comment\n",
    "       30 #comment\n",
    "       )"
   ]
  },
  {
   "cell_type": "code",
   "execution_count": 19,
   "metadata": {},
   "outputs": [],
   "source": [
    "a = 10\n",
    "b = 20\n",
    "c = 30"
   ]
  },
  {
   "cell_type": "code",
   "execution_count": 22,
   "metadata": {},
   "outputs": [
    {
     "name": "stdout",
     "output_type": "stream",
     "text": [
      "yes\n"
     ]
    }
   ],
   "source": [
    "if a > 5 and b > 10 and c > 20:\n",
    "    print(\"yes\")"
   ]
  },
  {
   "cell_type": "code",
   "execution_count": 25,
   "metadata": {},
   "outputs": [
    {
     "name": "stdout",
     "output_type": "stream",
     "text": [
      "yes\n"
     ]
    }
   ],
   "source": [
    "if a > 5 \\\n",
    "    and b > 10 \\\n",
    "        and c > 20:\n",
    "    print(\"yes\")\n",
    "    \n",
    "# here indentation doesn't matter because the newlins wil be removed"
   ]
  },
  {
   "cell_type": "code",
   "execution_count": 26,
   "metadata": {},
   "outputs": [],
   "source": [
    "a = \"\"\"this is a string\"\"\""
   ]
  },
  {
   "cell_type": "code",
   "execution_count": 27,
   "metadata": {},
   "outputs": [
    {
     "data": {
      "text/plain": [
       "'this is a string'"
      ]
     },
     "execution_count": 27,
     "metadata": {},
     "output_type": "execute_result"
    }
   ],
   "source": [
    "a"
   ]
  },
  {
   "cell_type": "code",
   "execution_count": 30,
   "metadata": {},
   "outputs": [],
   "source": [
    "a = '''this\n",
    "is a string'''"
   ]
  },
  {
   "cell_type": "code",
   "execution_count": 31,
   "metadata": {},
   "outputs": [
    {
     "data": {
      "text/plain": [
       "'this\\nis a string'"
      ]
     },
     "execution_count": 31,
     "metadata": {},
     "output_type": "execute_result"
    }
   ],
   "source": [
    "a"
   ]
  },
  {
   "cell_type": "code",
   "execution_count": 32,
   "metadata": {},
   "outputs": [
    {
     "name": "stdout",
     "output_type": "stream",
     "text": [
      "this\n",
      "is a string\n"
     ]
    }
   ],
   "source": [
    "print(a)"
   ]
  },
  {
   "cell_type": "code",
   "execution_count": 36,
   "metadata": {},
   "outputs": [],
   "source": [
    "a = '''this\n",
    "        is a string\n",
    "           that is created over multiple lines'''\n",
    "\n",
    "# the spaces and the newlines are preserved"
   ]
  },
  {
   "cell_type": "code",
   "execution_count": 34,
   "metadata": {},
   "outputs": [
    {
     "data": {
      "text/plain": [
       "'this\\n        is a string\\n           that is created over multiple lines'"
      ]
     },
     "execution_count": 34,
     "metadata": {},
     "output_type": "execute_result"
    }
   ],
   "source": [
    "a"
   ]
  },
  {
   "cell_type": "code",
   "execution_count": 35,
   "metadata": {},
   "outputs": [
    {
     "name": "stdout",
     "output_type": "stream",
     "text": [
      "this\n",
      "        is a string\n",
      "           that is created over multiple lines\n"
     ]
    }
   ],
   "source": [
    "print(a)"
   ]
  },
  {
   "cell_type": "code",
   "execution_count": 37,
   "metadata": {},
   "outputs": [],
   "source": [
    "a = '''some items:\n",
    "        1. item 1\n",
    "        2. item 2'''"
   ]
  },
  {
   "cell_type": "code",
   "execution_count": 38,
   "metadata": {},
   "outputs": [
    {
     "name": "stdout",
     "output_type": "stream",
     "text": [
      "some items:\n",
      "        1. item 1\n",
      "        2. item 2\n"
     ]
    }
   ],
   "source": [
    "print(a)"
   ]
  },
  {
   "cell_type": "code",
   "execution_count": 40,
   "metadata": {},
   "outputs": [
    {
     "name": "stdout",
     "output_type": "stream",
     "text": [
      "a multi-line string\n",
      "    that is indent in the second line.\n"
     ]
    }
   ],
   "source": [
    "def my_func():\n",
    "    a = '''a multi-line string\n",
    "    that is indent in the second line.'''\n",
    "    return a\n",
    "\n",
    "print(my_func())"
   ]
  },
  {
   "cell_type": "code",
   "execution_count": 41,
   "metadata": {},
   "outputs": [
    {
     "name": "stdout",
     "output_type": "stream",
     "text": [
      "a multi-line string\n",
      "that is not indent in the second line.\n"
     ]
    }
   ],
   "source": [
    "def my_func():\n",
    "    a = '''a multi-line string\n",
    "that is not indent in the second line.'''\n",
    "    return a\n",
    "\n",
    "print(my_func())"
   ]
  },
  {
   "cell_type": "markdown",
   "metadata": {},
   "source": [
    "# Identifier Names\n",
    "\n",
    "### Rules and Conventions"
   ]
  },
  {
   "cell_type": "markdown",
   "metadata": {},
   "source": [
    "## Identifier Names\n",
    "\n",
    "- are `case-sensitive`\n",
    "```\n",
    "    my_var\n",
    "    my_Var\n",
    "    ham\n",
    "    Ham\n",
    "```\n",
    "these are all different identifiers                       \n",
    "\n",
    "- identifier names must follow certain rules, they should follow certain conventions.\n",
    "\n",
    "\n",
    "![](./images/img4.jpg)\n",
    "![](./images/img5.jpg)\n"
   ]
  },
  {
   "cell_type": "markdown",
   "metadata": {},
   "source": [
    "![](./images/img6.jpg)\n",
    "\n",
    "- There is no concept of private in python, everything is public in python.\n",
    "- objects named this way will not get imported by a statement such as:\n",
    "    - from module import *\n",
    "    _you can't import it this way but there are other ways to access it._\n",
    "\n",
    "\n",
    "![](./images/img7.jpg)\n",
    "\n",
    "![](./images/img8.jpg)\n",
    "\n",
    "- to-do: read PEP 8 Style Guide"
   ]
  },
  {
   "cell_type": "code",
   "execution_count": null,
   "metadata": {},
   "outputs": [],
   "source": []
  }
 ],
 "metadata": {
  "kernelspec": {
   "display_name": "Python 3",
   "language": "python",
   "name": "python3"
  },
  "language_info": {
   "codemirror_mode": {
    "name": "ipython",
    "version": 3
   },
   "file_extension": ".py",
   "mimetype": "text/x-python",
   "name": "python",
   "nbconvert_exporter": "python",
   "pygments_lexer": "ipython3",
   "version": "3.7.3"
  }
 },
 "nbformat": 4,
 "nbformat_minor": 2
}
