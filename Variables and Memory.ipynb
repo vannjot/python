{
 "cells": [
  {
   "cell_type": "markdown",
   "metadata": {},
   "source": [
    "# Variables and Memory"
   ]
  },
  {
   "cell_type": "markdown",
   "metadata": {},
   "source": [
    "- memory references\n",
    "    - what variables really are\n",
    "        - memory management\n",
    "            - reference counting\n",
    "            \n",
    "            - garbage collection\n",
    "                - dynamic vs static typing\n",
    "                \n",
    "                       -mutability and immutability\n",
    "                           - shared references\n",
    "                               - variable equality\n",
    "                                   - everything is an object"
   ]
  },
  {
   "cell_type": "markdown",
   "metadata": {},
   "source": [
    "## Variables are Memory References"
   ]
  },
  {
   "cell_type": "markdown",
   "metadata": {},
   "source": [
    "![](./images/img9.jpg)\n",
    "\n",
    "- Storing and retriving objects from the heap is taken care of for us by `Python Memory Manager`"
   ]
  },
  {
   "cell_type": "markdown",
   "metadata": {},
   "source": [
    "![](./images/img10.jpg)\n",
    "\n",
    "- Note: my_var_1 != 10, my_var_1 infact is = to the memory address 0x1000 in this case, but 0x1000 represents the memory address of the data that we are actually interested in.\n",
    "- my_var_1 is a reference to an object at the memory location to which this name/alias is referencing to.\n",
    "\n",
    "![](./images/img11.jpg)\n",
    "\n",
    "- It's importat to understand that variable sin python are references to objects in memory.\n",
    "- In python we can find out the memory address of a variable using the `id() function`.\n",
    "     - This will return a base10 number. We can convert this base10 number to hexadecimal using `hex() function`.\n",
    "     "
   ]
  },
  {
   "cell_type": "code",
   "execution_count": 2,
   "metadata": {},
   "outputs": [
    {
     "name": "stdout",
     "output_type": "stream",
     "text": [
      "0x7fffe07763b0\n"
     ]
    }
   ],
   "source": [
    "a = 10\n",
    "print(hex(id(a)))"
   ]
  },
  {
   "cell_type": "code",
   "execution_count": 3,
   "metadata": {},
   "outputs": [
    {
     "name": "stdout",
     "output_type": "stream",
     "text": [
      "hello\n"
     ]
    }
   ],
   "source": [
    "greeting = 'hello'\n",
    "print(greeting)"
   ]
  },
  {
   "cell_type": "code",
   "execution_count": 4,
   "metadata": {},
   "outputs": [
    {
     "name": "stdout",
     "output_type": "stream",
     "text": [
      "1912861025872\n"
     ]
    }
   ],
   "source": [
    "print(id(greeting))"
   ]
  },
  {
   "cell_type": "code",
   "execution_count": 5,
   "metadata": {},
   "outputs": [
    {
     "name": "stdout",
     "output_type": "stream",
     "text": [
      "0x1bd5f66e650\n"
     ]
    }
   ],
   "source": [
    "print(hex(id(greeting)))"
   ]
  },
  {
   "cell_type": "markdown",
   "metadata": {},
   "source": [
    "- Bottom variables are just memory addresses. They are not equal to the values that we think they are equal to."
   ]
  },
  {
   "cell_type": "markdown",
   "metadata": {},
   "source": [
    "# Reference Counting"
   ]
  },
  {
   "cell_type": "markdown",
   "metadata": {},
   "source": [
    "![](./images/img_12.jpg)\n",
    "![](./images/img_13.jpg)\n",
    "\n",
    "- Now suppose my_var goes aways, either becomes out of scope or my_var assigned to None. Now the reference count goes to 1.\n",
    "\n",
    "![](./images/img_14.jpg)\n",
    "\n",
    "- Now lets say other_var also goes away. Now since no variable is referencing to 0x1000 therefore the reference count drops down to 0.\n",
    "\n",
    "![](./images/img_15.jpg)\n",
    "- Now at this point the python memory manager recgonizes that since there is no references left, therefore it throws away the object stored at memory address 0x1000. \n",
    "    - Now this space can be reused again to store another object.\n",
    "\n",
    "- This is called Reference Counting, this is done automatically by the python memory manager."
   ]
  },
  {
   "cell_type": "markdown",
   "metadata": {},
   "source": [
    "## Finding the Reference Count\n",
    "\n",
    "- sys.getrefcount(my_var)\n",
    "     - When we pass my_var to `getrefcount() fucntion` it is actually creating another reference to that same object in memory.\n",
    "     - There is a downside to using getrefcount(), it always increases the reference count by 1 because simply the act of passing my_var to the function getrefcount() creates another reference to that same variable since variables are passed by reference in python. "
   ]
  },
  {
   "cell_type": "code",
   "execution_count": 29,
   "metadata": {},
   "outputs": [
    {
     "name": "stdout",
     "output_type": "stream",
     "text": [
      "Inside main: 0x7fffe07763b0\n",
      "Inside func_1:  0x7fffe07763b0\n"
     ]
    }
   ],
   "source": [
    "#Uderstading the above concept\n",
    "\n",
    "def func_1(my_var_test):\n",
    "    print('Inside func_1: ', hex(id(my_var_test)))\n",
    "my_var_test = 10\n",
    "print('Inside main:', hex(id(my_var_test)))\n",
    "func_1(my_var_test)\n",
    "# This proves that variables are passed by reference in python."
   ]
  },
  {
   "cell_type": "code",
   "execution_count": 39,
   "metadata": {},
   "outputs": [
    {
     "data": {
      "text/plain": [
       "134"
      ]
     },
     "execution_count": 39,
     "metadata": {},
     "output_type": "execute_result"
    }
   ],
   "source": [
    "import sys\n",
    "sys.getrefcount(my_var_test)\n",
    "#134"
   ]
  },
  {
   "cell_type": "markdown",
   "metadata": {},
   "source": [
    "- The reason we are getting 134 as the refcount because it is not the refcount of my_var_test. Rather it is the reference count of the value 10. Variable names don't have references; they are the references.\n",
    "\n",
    "[stackoverflow related thread](https://stackoverflow.com/questions/61738531/why-does-a-new-python-variable-have-a-reference-count-of-108)"
   ]
  },
  {
   "cell_type": "code",
   "execution_count": 40,
   "metadata": {},
   "outputs": [
    {
     "data": {
      "text/plain": [
       "2"
      ]
     },
     "execution_count": 40,
     "metadata": {},
     "output_type": "execute_result"
    }
   ],
   "source": [
    "a = hex(id(my_var_test))\n",
    "sys.getrefcount(a)"
   ]
  },
  {
   "cell_type": "markdown",
   "metadata": {},
   "source": [
    "- Here we are getting refcount as 2. One for `a` and the other one is resulting from passing a as a parameter to `sys.getrefcount()` since parameters are passed by reference in python."
   ]
  },
  {
   "cell_type": "markdown",
   "metadata": {},
   "source": [
    "### Another method to find the reference count without having the drawbacks\n",
    "\n",
    "- ctypes.c_long.from_address(address).value\n",
    "    - here we are just passing the memory address(id()/ an integer), not a reference - does not affect reference count."
   ]
  },
  {
   "cell_type": "code",
   "execution_count": 882,
   "metadata": {},
   "outputs": [],
   "source": [
    "#example\n",
    "import sys"
   ]
  },
  {
   "cell_type": "code",
   "execution_count": 883,
   "metadata": {},
   "outputs": [],
   "source": [
    "a = [1, 2, 3]"
   ]
  },
  {
   "cell_type": "code",
   "execution_count": 884,
   "metadata": {},
   "outputs": [
    {
     "data": {
      "text/plain": [
       "1912865986760"
      ]
     },
     "execution_count": 884,
     "metadata": {},
     "output_type": "execute_result"
    }
   ],
   "source": [
    "id(a)"
   ]
  },
  {
   "cell_type": "code",
   "execution_count": 885,
   "metadata": {},
   "outputs": [
    {
     "data": {
      "text/plain": [
       "2"
      ]
     },
     "execution_count": 885,
     "metadata": {},
     "output_type": "execute_result"
    }
   ],
   "source": [
    "sys.getrefcount(a)"
   ]
  },
  {
   "cell_type": "code",
   "execution_count": 886,
   "metadata": {},
   "outputs": [],
   "source": [
    "import ctypes"
   ]
  },
  {
   "cell_type": "code",
   "execution_count": 887,
   "metadata": {},
   "outputs": [],
   "source": [
    "#defining a wrapper function\n",
    "def refcount(address: int):\n",
    "    return ctypes.c_long.from_address(address).value"
   ]
  },
  {
   "cell_type": "code",
   "execution_count": 888,
   "metadata": {},
   "outputs": [
    {
     "data": {
      "text/plain": [
       "1"
      ]
     },
     "execution_count": 888,
     "metadata": {},
     "output_type": "execute_result"
    }
   ],
   "source": [
    "refcount(id(a))\n",
    "# Note id(a) is evaluated first, when we are running id(a) the reference count to the memory address is 2; 1 of 'a' and 1 since \n",
    "# we passed a as parameter to id() function. Now id() finishes running and returns the memory address and hence reduces the refcount back to 1.\n",
    "#Therefore by the time we call refcount() id has finished running, and it has released it's pointer to that memory address.\n",
    "#Now, the refernce count is indeed back to 1"
   ]
  },
  {
   "cell_type": "code",
   "execution_count": 889,
   "metadata": {},
   "outputs": [
    {
     "data": {
      "text/plain": [
       "1"
      ]
     },
     "execution_count": 889,
     "metadata": {},
     "output_type": "execute_result"
    }
   ],
   "source": [
    " refcount(1912865986760)"
   ]
  },
  {
   "cell_type": "code",
   "execution_count": 890,
   "metadata": {},
   "outputs": [],
   "source": [
    "b = a"
   ]
  },
  {
   "cell_type": "code",
   "execution_count": 891,
   "metadata": {},
   "outputs": [
    {
     "data": {
      "text/plain": [
       "1912865986760"
      ]
     },
     "execution_count": 891,
     "metadata": {},
     "output_type": "execute_result"
    }
   ],
   "source": [
    "id(b)\n",
    "# a and b are both pointing to the same location in memory"
   ]
  },
  {
   "cell_type": "code",
   "execution_count": 892,
   "metadata": {},
   "outputs": [
    {
     "data": {
      "text/plain": [
       "2"
      ]
     },
     "execution_count": 892,
     "metadata": {},
     "output_type": "execute_result"
    }
   ],
   "source": [
    "refcount(id(a))"
   ]
  },
  {
   "cell_type": "code",
   "execution_count": 893,
   "metadata": {},
   "outputs": [
    {
     "data": {
      "text/plain": [
       "3"
      ]
     },
     "execution_count": 893,
     "metadata": {},
     "output_type": "execute_result"
    }
   ],
   "source": [
    "c = a\n",
    "refcount(id(a))"
   ]
  },
  {
   "cell_type": "code",
   "execution_count": 894,
   "metadata": {},
   "outputs": [],
   "source": [
    "c = 10"
   ]
  },
  {
   "cell_type": "code",
   "execution_count": 895,
   "metadata": {},
   "outputs": [
    {
     "data": {
      "text/plain": [
       "2"
      ]
     },
     "execution_count": 895,
     "metadata": {},
     "output_type": "execute_result"
    }
   ],
   "source": [
    "refcount(id(a))"
   ]
  },
  {
   "cell_type": "code",
   "execution_count": 896,
   "metadata": {},
   "outputs": [],
   "source": [
    "b = None"
   ]
  },
  {
   "cell_type": "code",
   "execution_count": 897,
   "metadata": {},
   "outputs": [
    {
     "data": {
      "text/plain": [
       "140736958835936"
      ]
     },
     "execution_count": 897,
     "metadata": {},
     "output_type": "execute_result"
    }
   ],
   "source": [
    "id(b)"
   ]
  },
  {
   "cell_type": "code",
   "execution_count": 898,
   "metadata": {},
   "outputs": [
    {
     "data": {
      "text/plain": [
       "1"
      ]
     },
     "execution_count": 898,
     "metadata": {},
     "output_type": "execute_result"
    }
   ],
   "source": [
    "refcount(id(a))"
   ]
  },
  {
   "cell_type": "code",
   "execution_count": 62,
   "metadata": {},
   "outputs": [
    {
     "data": {
      "text/plain": [
       "140736958835936"
      ]
     },
     "execution_count": 62,
     "metadata": {},
     "output_type": "execute_result"
    }
   ],
   "source": [
    "# digressing a little bit also note None is a real object in memory any variable assigned as None will have same memory address\n",
    "q = None\n",
    "id(q)"
   ]
  },
  {
   "cell_type": "code",
   "execution_count": 319,
   "metadata": {},
   "outputs": [],
   "source": [
    "a_id = id(a)"
   ]
  },
  {
   "cell_type": "code",
   "execution_count": 320,
   "metadata": {},
   "outputs": [
    {
     "data": {
      "text/plain": [
       "1912865715144"
      ]
     },
     "execution_count": 320,
     "metadata": {},
     "output_type": "execute_result"
    }
   ],
   "source": [
    "a_id"
   ]
  },
  {
   "cell_type": "code",
   "execution_count": 479,
   "metadata": {},
   "outputs": [],
   "source": [
    "a = None"
   ]
  },
  {
   "cell_type": "code",
   "execution_count": 480,
   "metadata": {},
   "outputs": [
    {
     "data": {
      "text/plain": [
       "140736958835936"
      ]
     },
     "execution_count": 480,
     "metadata": {},
     "output_type": "execute_result"
    }
   ],
   "source": [
    "id(a)"
   ]
  },
  {
   "cell_type": "code",
   "execution_count": 526,
   "metadata": {},
   "outputs": [
    {
     "data": {
      "text/plain": [
       "1912865715144"
      ]
     },
     "execution_count": 526,
     "metadata": {},
     "output_type": "execute_result"
    }
   ],
   "source": [
    "a_id"
   ]
  },
  {
   "cell_type": "code",
   "execution_count": 899,
   "metadata": {},
   "outputs": [
    {
     "data": {
      "text/plain": [
       "1"
      ]
     },
     "execution_count": 899,
     "metadata": {},
     "output_type": "execute_result"
    }
   ],
   "source": [
    "#Note\n",
    "a_id = id(a)\n",
    "a = None\n",
    "refcount(a_id)"
   ]
  },
  {
   "cell_type": "code",
   "execution_count": 299,
   "metadata": {},
   "outputs": [
    {
     "data": {
      "text/plain": [
       "140736958835936"
      ]
     },
     "execution_count": 299,
     "metadata": {},
     "output_type": "execute_result"
    }
   ],
   "source": [
    "a_id"
   ]
  },
  {
   "cell_type": "code",
   "execution_count": 938,
   "metadata": {},
   "outputs": [
    {
     "data": {
      "text/plain": [
       "1"
      ]
     },
     "execution_count": 938,
     "metadata": {},
     "output_type": "execute_result"
    }
   ],
   "source": [
    "refcount(a_id)"
   ]
  },
  {
   "cell_type": "code",
   "execution_count": 939,
   "metadata": {},
   "outputs": [
    {
     "data": {
      "text/plain": [
       "1"
      ]
     },
     "execution_count": 939,
     "metadata": {},
     "output_type": "execute_result"
    }
   ],
   "source": [
    "refcount(a_id)"
   ]
  },
  {
   "cell_type": "code",
   "execution_count": 940,
   "metadata": {},
   "outputs": [
    {
     "data": {
      "text/plain": [
       "1"
      ]
     },
     "execution_count": 940,
     "metadata": {},
     "output_type": "execute_result"
    }
   ],
   "source": [
    "refcount(a_id)"
   ]
  },
  {
   "cell_type": "code",
   "execution_count": 1255,
   "metadata": {},
   "outputs": [
    {
     "data": {
      "text/plain": [
       "1"
      ]
     },
     "execution_count": 1255,
     "metadata": {},
     "output_type": "execute_result"
    }
   ],
   "source": [
    "refcount(a_id)"
   ]
  },
  {
   "cell_type": "code",
   "execution_count": 68,
   "metadata": {},
   "outputs": [
    {
     "data": {
      "text/plain": [
       "0"
      ]
     },
     "execution_count": 68,
     "metadata": {},
     "output_type": "execute_result"
    }
   ],
   "source": [
    "refcount(a_id)"
   ]
  },
  {
   "cell_type": "code",
   "execution_count": 69,
   "metadata": {},
   "outputs": [
    {
     "data": {
      "text/plain": [
       "2"
      ]
     },
     "execution_count": 69,
     "metadata": {},
     "output_type": "execute_result"
    }
   ],
   "source": [
    "refcount(a_id)"
   ]
  },
  {
   "cell_type": "markdown",
   "metadata": {},
   "source": [
    "- This wierd behaviour is because we are using the c library\n",
    "- when we set a = None; The python memory manager frees up the memory address; it tosses away the object, now this memory address is available for something else."
   ]
  },
  {
   "cell_type": "markdown",
   "metadata": {},
   "source": [
    "- In python we never deal with memory address it's very dangerous to do that. You cannot rely on this.\n",
    "- The above code is just for illustration purposes, you are never going to use it unless you are trying to debug or understand whats going on."
   ]
  },
  {
   "cell_type": "code",
   "execution_count": 694,
   "metadata": {},
   "outputs": [],
   "source": [
    "cat = 253"
   ]
  },
  {
   "cell_type": "code",
   "execution_count": 695,
   "metadata": {},
   "outputs": [
    {
     "data": {
      "text/plain": [
       "140736959316496"
      ]
     },
     "execution_count": 695,
     "metadata": {},
     "output_type": "execute_result"
    }
   ],
   "source": [
    "id(cat)"
   ]
  },
  {
   "cell_type": "code",
   "execution_count": 696,
   "metadata": {},
   "outputs": [],
   "source": [
    "bat = id(cat)"
   ]
  },
  {
   "cell_type": "code",
   "execution_count": 697,
   "metadata": {},
   "outputs": [
    {
     "data": {
      "text/plain": [
       "140736959316496"
      ]
     },
     "execution_count": 697,
     "metadata": {},
     "output_type": "execute_result"
    }
   ],
   "source": [
    "bat"
   ]
  },
  {
   "cell_type": "code",
   "execution_count": 698,
   "metadata": {},
   "outputs": [
    {
     "data": {
      "text/plain": [
       "30"
      ]
     },
     "execution_count": 698,
     "metadata": {},
     "output_type": "execute_result"
    }
   ],
   "source": [
    "refcount(bat)"
   ]
  },
  {
   "cell_type": "code",
   "execution_count": 745,
   "metadata": {},
   "outputs": [],
   "source": [
    "cat = None"
   ]
  },
  {
   "cell_type": "code",
   "execution_count": 700,
   "metadata": {},
   "outputs": [
    {
     "data": {
      "text/plain": [
       "140736958835936"
      ]
     },
     "execution_count": 700,
     "metadata": {},
     "output_type": "execute_result"
    }
   ],
   "source": [
    "id(cat)"
   ]
  },
  {
   "cell_type": "code",
   "execution_count": 701,
   "metadata": {},
   "outputs": [
    {
     "data": {
      "text/plain": [
       "140736959316496"
      ]
     },
     "execution_count": 701,
     "metadata": {},
     "output_type": "execute_result"
    }
   ],
   "source": [
    "bat"
   ]
  },
  {
   "cell_type": "code",
   "execution_count": 881,
   "metadata": {},
   "outputs": [
    {
     "data": {
      "text/plain": [
       "29"
      ]
     },
     "execution_count": 881,
     "metadata": {},
     "output_type": "execute_result"
    }
   ],
   "source": [
    "cat = None\n",
    "refcount(bat)"
   ]
  },
  {
   "cell_type": "markdown",
   "metadata": {},
   "source": [
    "# Garbage Collection"
   ]
  },
  {
   "cell_type": "markdown",
   "metadata": {},
   "source": [
    "## Circular References"
   ]
  },
  {
   "cell_type": "markdown",
   "metadata": {},
   "source": [
    "![](./images/img_16.jpg)"
   ]
  },
  {
   "cell_type": "markdown",
   "metadata": {},
   "source": [
    "- Let us consider a case, there exists a varible` my_var` which points to `Object_A`. Object_A has an instance variable called `var_1` which points towards Object_B.\n",
    "\n",
    "- At this point if we get rid of variable `my_var`(example by pointing it to None) the reference count of Object_A goes down to zero.\n",
    "\n",
    "- The reference count of `Object_B` is still 1 since instance variable of Object_A `var_1` is pointing to Object_B.\n",
    "\n",
    "- Now the reference count of Object_A has gone down to zero, therefore the Object_A will be destroyed. Once it gets destroyed reference count of Object_B also goes down to zero and it gets destroyed as well.\n",
    "\n",
    "- Therefore by removing the reference of my_var to Object_A, the python memory manager through reference counting will get rid of `Object_A` and `Object_B`."
   ]
  },
  {
   "cell_type": "markdown",
   "metadata": {},
   "source": [
    "![](./images/img_17.jpg)"
   ]
  },
  {
   "cell_type": "markdown",
   "metadata": {},
   "source": [
    "- Now let us consider a case where Object_B has a instance variable `var_2` pointing towards Object_A.\n",
    "- This is a case of __Circular Referencing__\n",
    "- *What happens if we get rid of my_var ?*\n",
    "- If my_var goes away the reference count of Object_A reduces from 2 to 1.\n",
    "- The reference count of Object_B is also 1 since var_1 is pointing to object_B.\n",
    "- In this case reference counting will not destroy either Object_A or Object_B, because they both have reference variables which is non zero.\n",
    "- Python Memory Manager cannot free the Circularly referenced memory. This is going to lead to the problem of __Memory Leak__.\n"
   ]
  },
  {
   "cell_type": "markdown",
   "metadata": {},
   "source": [
    "![](./images/img_18.jpg)"
   ]
  },
  {
   "cell_type": "markdown",
   "metadata": {},
   "source": [
    "- This is the place where __Garbage Collector__ comes in. \n",
    "- The Garbage Collector will look for the circularly referenced memory identify them and clean them up. Hence we get rid of memory leaks.\n"
   ]
  },
  {
   "cell_type": "markdown",
   "metadata": {},
   "source": [
    "- The __Garbage Collector__ can be controlled programatically using the __gc__ module.\n",
    "- by default it is turned __on__.\n",
    "- you may turn it off if you are sure your code does not create circular references- but beware!\n",
    "- runs periodically on its own(if turned on)\n",
    "- The usecase for turning of garbage collector is performance boost. gc runs periodically therefore it takes up some computing power.\n",
    "- One must leave the gc turned on unless one have some specific need.\n",
    "- you can call it manually, and even do your own cleanup.\n"
   ]
  },
  {
   "cell_type": "markdown",
   "metadata": {},
   "source": [
    "- In general __gc__ works just fine but not always....\n",
    "\n",
    "- ### for python < 3.4\n",
    "    - if __even one__ of the objects in the circular reference has a __destructor__ [e.g. __del__()] the destruction order of the objects may be important but the GC does not know what that order should be.\n",
    "    - So the object is marked as __ Uncollectable__.\n",
    "    - and the objects in circular reference are not cleaned up leading to ------> __MEMOR LEAKS__.\n",
    "  \n",
    "- That is no longer the case with python version greater than or equal to 3.4, this problem is resolved.\n"
   ]
  },
  {
   "cell_type": "markdown",
   "metadata": {},
   "source": [
    "### Understanding the Garbage collector workings"
   ]
  },
  {
   "cell_type": "code",
   "execution_count": 3,
   "metadata": {},
   "outputs": [],
   "source": [
    "import ctypes\n",
    "import gc"
   ]
  },
  {
   "cell_type": "code",
   "execution_count": 4,
   "metadata": {},
   "outputs": [],
   "source": [
    "def ref_count(address: int):\n",
    "    return ctypes.c_long.from_address(address).value"
   ]
  },
  {
   "cell_type": "code",
   "execution_count": 36,
   "metadata": {},
   "outputs": [],
   "source": [
    "#function to check whether a particular object os tracked by the gc based on the memory address\n",
    "def object_by_id(object_id: int):\n",
    "    for obj in gc.get_objects():   #gc.getobjects() is an iterable which gives the objects tracked by the gc\n",
    "        if id(obj) == object_id:\n",
    "            return \"Object Exists\"\n",
    "    return \"Object Not Found\""
   ]
  },
  {
   "cell_type": "code",
   "execution_count": 21,
   "metadata": {},
   "outputs": [],
   "source": [
    "# Creating the two classes involved in Circular Reference\n",
    "\n",
    "class A:\n",
    "    def __init__(self):\n",
    "        self.b = B(self)  #This constructor will call another class B. It is going to set the instance variable b of class A\n",
    "                          # to an instance of class B passing self(instance of class A) as a parameter to the constructor\n",
    "                          # of class B, This reference to instance of class A will be stored in the constructor of class B later\n",
    "                          # thus giving rise to circular reference\n",
    "        print('A: self:{0}, b: {1}'.format(hex(id(self)), hex(id(self.b))))                "
   ]
  },
  {
   "cell_type": "code",
   "execution_count": 22,
   "metadata": {},
   "outputs": [],
   "source": [
    "class B:\n",
    "    def __init__(self, a):\n",
    "        self.a = a\n",
    "        print('B: self:{0}, a: {1}'.format(hex(id(self)), hex(id(self.a))))\n",
    "        "
   ]
  },
  {
   "cell_type": "code",
   "execution_count": 23,
   "metadata": {},
   "outputs": [],
   "source": [
    "gc.disable()\n",
    "#disabling gc to see what is happeing, since if we don't disable it then as references goes away it's going to cleanup\n",
    "#the circulary reference memory itself."
   ]
  },
  {
   "cell_type": "code",
   "execution_count": 24,
   "metadata": {},
   "outputs": [
    {
     "name": "stdout",
     "output_type": "stream",
     "text": [
      "B: self:0x14f76346588, a: 0x14f76346550\n",
      "A: self:0x14f76346550, b: 0x14f76346588\n"
     ]
    }
   ],
   "source": [
    "my_var = A()"
   ]
  },
  {
   "cell_type": "code",
   "execution_count": 25,
   "metadata": {},
   "outputs": [
    {
     "data": {
      "text/plain": [
       "'0x14f76346550'"
      ]
     },
     "execution_count": 25,
     "metadata": {},
     "output_type": "execute_result"
    }
   ],
   "source": [
    "hex(id(my_var))\n",
    "#my_var is point towards object A"
   ]
  },
  {
   "cell_type": "code",
   "execution_count": 26,
   "metadata": {},
   "outputs": [
    {
     "name": "stdout",
     "output_type": "stream",
     "text": [
      "0x14f76346588\n",
      "0x14f76346550\n"
     ]
    }
   ],
   "source": [
    "print(hex(id(my_var.b))) #b is an instance property of class A, since my_var is pointing to Object A therefore it can access instance property b\n",
    "print(hex(id(my_var.b.a)))"
   ]
  },
  {
   "cell_type": "code",
   "execution_count": 30,
   "metadata": {},
   "outputs": [],
   "source": [
    "a_id = id(my_var)\n",
    "b_id = id(my_var.b)\n",
    "#we are storing the memory addresses because once my_var goes away we cannot access the objects via my_var."
   ]
  },
  {
   "cell_type": "code",
   "execution_count": 32,
   "metadata": {},
   "outputs": [
    {
     "name": "stdout",
     "output_type": "stream",
     "text": [
      "0x14f76346550\n",
      "0x14f76346588\n"
     ]
    }
   ],
   "source": [
    "print(hex(a_id))\n",
    "print(hex(b_id))"
   ]
  },
  {
   "cell_type": "code",
   "execution_count": 33,
   "metadata": {},
   "outputs": [
    {
     "data": {
      "text/plain": [
       "2"
      ]
     },
     "execution_count": 33,
     "metadata": {},
     "output_type": "execute_result"
    }
   ],
   "source": [
    "ref_count(a_id)\n",
    "#2 since my_var is pointing to A and object B is pointing to A"
   ]
  },
  {
   "cell_type": "code",
   "execution_count": 34,
   "metadata": {},
   "outputs": [
    {
     "data": {
      "text/plain": [
       "1"
      ]
     },
     "execution_count": 34,
     "metadata": {},
     "output_type": "execute_result"
    }
   ],
   "source": [
    "ref_count(b_id)\n",
    "#1 since only object A is point to object B"
   ]
  },
  {
   "cell_type": "code",
   "execution_count": 37,
   "metadata": {},
   "outputs": [
    {
     "data": {
      "text/plain": [
       "'Object Exists'"
      ]
     },
     "execution_count": 37,
     "metadata": {},
     "output_type": "execute_result"
    }
   ],
   "source": [
    "object_by_id(a_id)"
   ]
  },
  {
   "cell_type": "code",
   "execution_count": 38,
   "metadata": {},
   "outputs": [
    {
     "data": {
      "text/plain": [
       "'Object Exists'"
      ]
     },
     "execution_count": 38,
     "metadata": {},
     "output_type": "execute_result"
    }
   ],
   "source": [
    "object_by_id(b_id)"
   ]
  },
  {
   "cell_type": "code",
   "execution_count": 40,
   "metadata": {},
   "outputs": [],
   "source": [
    "my_var = None"
   ]
  },
  {
   "cell_type": "code",
   "execution_count": 41,
   "metadata": {},
   "outputs": [
    {
     "data": {
      "text/plain": [
       "1"
      ]
     },
     "execution_count": 41,
     "metadata": {},
     "output_type": "execute_result"
    }
   ],
   "source": [
    "ref_count(a_id)"
   ]
  },
  {
   "cell_type": "code",
   "execution_count": 42,
   "metadata": {},
   "outputs": [
    {
     "data": {
      "text/plain": [
       "1"
      ]
     },
     "execution_count": 42,
     "metadata": {},
     "output_type": "execute_result"
    }
   ],
   "source": [
    "ref_count(b_id)"
   ]
  },
  {
   "cell_type": "code",
   "execution_count": 43,
   "metadata": {},
   "outputs": [
    {
     "data": {
      "text/plain": [
       "'Object Exists'"
      ]
     },
     "execution_count": 43,
     "metadata": {},
     "output_type": "execute_result"
    }
   ],
   "source": [
    "object_by_id(a_id)"
   ]
  },
  {
   "cell_type": "code",
   "execution_count": 44,
   "metadata": {},
   "outputs": [
    {
     "data": {
      "text/plain": [
       "'Object Exists'"
      ]
     },
     "execution_count": 44,
     "metadata": {},
     "output_type": "execute_result"
    }
   ],
   "source": [
    "object_by_id(b_id)"
   ]
  },
  {
   "cell_type": "code",
   "execution_count": 45,
   "metadata": {},
   "outputs": [
    {
     "data": {
      "text/plain": [
       "972"
      ]
     },
     "execution_count": 45,
     "metadata": {},
     "output_type": "execute_result"
    }
   ],
   "source": [
    "gc.collect()"
   ]
  },
  {
   "cell_type": "code",
   "execution_count": 46,
   "metadata": {},
   "outputs": [
    {
     "data": {
      "text/plain": [
       "'Object Not Found'"
      ]
     },
     "execution_count": 46,
     "metadata": {},
     "output_type": "execute_result"
    }
   ],
   "source": [
    "object_by_id(a_id)"
   ]
  },
  {
   "cell_type": "code",
   "execution_count": 47,
   "metadata": {},
   "outputs": [
    {
     "data": {
      "text/plain": [
       "'Object Not Found'"
      ]
     },
     "execution_count": 47,
     "metadata": {},
     "output_type": "execute_result"
    }
   ],
   "source": [
    "object_by_id(b_id)"
   ]
  },
  {
   "cell_type": "code",
   "execution_count": 58,
   "metadata": {},
   "outputs": [
    {
     "data": {
      "text/plain": [
       "-1453878798"
      ]
     },
     "execution_count": 58,
     "metadata": {},
     "output_type": "execute_result"
    }
   ],
   "source": [
    "ref_count(a_id)"
   ]
  },
  {
   "cell_type": "code",
   "execution_count": 73,
   "metadata": {},
   "outputs": [
    {
     "data": {
      "text/plain": [
       "-1"
      ]
     },
     "execution_count": 73,
     "metadata": {},
     "output_type": "execute_result"
    }
   ],
   "source": [
    "ref_count(b_id)"
   ]
  },
  {
   "cell_type": "markdown",
   "metadata": {},
   "source": [
    "- The ref_count is fluctuating, Whats going on?\n",
    "- Even though objects A and B are not tracked by the GC i.e. they are destroyed but still their ref_count exist, and keeps changing over time.\n",
    "- This is the reason why we don't use memory addresses and work with memory addresses in Python, unless we are trying to debug or trying to do your own manual memory cleanup.\n",
    "- You have got to be really careful using memory addresses.\n",
    "- What is at the memory address used for storing object_A and object_B, it could be something else or it could be nothing but that object is no longer A, its something else.\n",
    "- Trying to get refrence count of a memory address hat is no longer necessarily managed by python memory manager or even it is, that memory address could have been reclaimed by some other object.\n",
    "- Therefore becareful while using memory addresses in python, use them for debugging purposes or as long as you are using a memory address for an object that you know exist.\n",
    "- In the above case once the garbage collector ran, it destroyed all the objects that are involved in the circular reference and those memory addresses that we stored are no longer applicable.\n",
    "\n"
   ]
  }
 ],
 "metadata": {
  "kernelspec": {
   "display_name": "Python 3",
   "language": "python",
   "name": "python3"
  },
  "language_info": {
   "codemirror_mode": {
    "name": "ipython",
    "version": 3
   },
   "file_extension": ".py",
   "mimetype": "text/x-python",
   "name": "python",
   "nbconvert_exporter": "python",
   "pygments_lexer": "ipython3",
   "version": "3.7.3"
  }
 },
 "nbformat": 4,
 "nbformat_minor": 2
}
