{
 "cells": [
  {
   "cell_type": "markdown",
   "id": "cooked-darkness",
   "metadata": {},
   "source": [
    "# Object Oriented Programming in Python"
   ]
  },
  {
   "cell_type": "markdown",
   "id": "textile-closer",
   "metadata": {},
   "source": [
    "- Everything is an object in python(including the primitives)."
   ]
  },
  {
   "cell_type": "code",
   "execution_count": 1,
   "id": "crucial-patrick",
   "metadata": {},
   "outputs": [
    {
     "name": "stdout",
     "output_type": "stream",
     "text": [
      "<class 'int'>\n",
      "<class 'str'>\n"
     ]
    }
   ],
   "source": [
    "myInt = 5\n",
    "myStr = 'Python'\n",
    "print(type(myInt))\n",
    "print(type(myStr))"
   ]
  },
  {
   "cell_type": "markdown",
   "id": "signed-diabetes",
   "metadata": {},
   "source": [
    "- Here int and str are classes, namely int class and str class."
   ]
  },
  {
   "cell_type": "code",
   "execution_count": 7,
   "id": "careful-reynolds",
   "metadata": {},
   "outputs": [
    {
     "name": "stdout",
     "output_type": "stream",
     "text": [
      "<class 'list'>\n",
      "<class 'bool'>\n",
      "<class 'NoneType'>\n",
      "<class 'function'>\n",
      "<class 'type'>\n"
     ]
    }
   ],
   "source": [
    "myList = ['1', 'a']\n",
    "myBool = True\n",
    "myNone = None\n",
    "\n",
    "def my_func():\n",
    "    print('Python')\n",
    "    \n",
    "print(type(myList))\n",
    "print(type(myBool))\n",
    "print(type(myNone))\n",
    "print(type(my_func))\n",
    "\n",
    "this_type = type(myList)\n",
    "print(type(this_type))\n"
   ]
  },
  {
   "cell_type": "markdown",
   "id": "dying-chapter",
   "metadata": {},
   "source": [
    "### Creating a class"
   ]
  },
  {
   "cell_type": "code",
   "execution_count": 9,
   "id": "optional-table",
   "metadata": {},
   "outputs": [
    {
     "name": "stdout",
     "output_type": "stream",
     "text": [
      "<__main__.MyClass object at 0x0000024FC8700A90>\n",
      "<__main__.MyClass object at 0x0000024FC8700EB0>\n"
     ]
    }
   ],
   "source": [
    "class MyClass(object):\n",
    "    pass\n",
    "\n",
    "this_object = MyClass()\n",
    "print(this_object)\n",
    "\n",
    "that_obj = MyClass()\n",
    "print(that_obj)"
   ]
  },
  {
   "cell_type": "code",
   "execution_count": 10,
   "id": "administrative-banner",
   "metadata": {},
   "outputs": [
    {
     "name": "stdout",
     "output_type": "stream",
     "text": [
      "10\n",
      "10\n"
     ]
    }
   ],
   "source": [
    "class MyClass(object):\n",
    "    var = 10\n",
    "\n",
    "this_object = MyClass()\n",
    "print(this_object.var)\n",
    "\n",
    "that_obj = MyClass()\n",
    "print(that_obj.var)"
   ]
  },
  {
   "cell_type": "markdown",
   "id": "charged-membrane",
   "metadata": {},
   "source": [
    "### Methods"
   ]
  },
  {
   "cell_type": "code",
   "execution_count": 12,
   "id": "whole-disclaimer",
   "metadata": {},
   "outputs": [
    {
     "name": "stdout",
     "output_type": "stream",
     "text": [
      "hello, Joe.\n"
     ]
    }
   ],
   "source": [
    "class Joe(object):\n",
    "    greeting  = \"hello, Joe.\"\n",
    "\n",
    "thisjoe = Joe()\n",
    "print(thisjoe.greeting)"
   ]
  },
  {
   "cell_type": "code",
   "execution_count": 15,
   "id": "prescribed-cycling",
   "metadata": {},
   "outputs": [
    {
     "name": "stdout",
     "output_type": "stream",
     "text": [
      "calling \"callme\" method with instance: \n",
      "<__main__.Joe object at 0x0000024FC851A190>\n",
      "<__main__.Joe object at 0x0000024FC851A190>\n"
     ]
    }
   ],
   "source": [
    "class Joe(object):\n",
    "    def callme(self):\n",
    "        print('calling \"callme\" method with instance: ')\n",
    "        print(self)\n",
    "\n",
    "thisjoe = Joe()\n",
    "thisjoe.callme()\n",
    "print(thisjoe)"
   ]
  },
  {
   "cell_type": "code",
   "execution_count": null,
   "id": "iraqi-education",
   "metadata": {},
   "outputs": [],
   "source": []
  },
  {
   "cell_type": "code",
   "execution_count": 23,
   "id": "saving-danish",
   "metadata": {},
   "outputs": [
    {
     "name": "stdout",
     "output_type": "stream",
     "text": [
      "3\n"
     ]
    }
   ],
   "source": [
    "import random\n",
    "\n",
    "class MyClass(object):\n",
    "    def dothis(self):\n",
    "        self.rand_val = random.randint(1, 10)\n",
    "\n",
    "myinst = MyClass()\n",
    "myinst.dothis()\n",
    "print(myinst.rand_val)"
   ]
  },
  {
   "cell_type": "markdown",
   "id": "jewish-kuwait",
   "metadata": {},
   "source": [
    "### Encapsulation"
   ]
  },
  {
   "cell_type": "code",
   "execution_count": 26,
   "id": "absent-destiny",
   "metadata": {},
   "outputs": [
    {
     "name": "stdout",
     "output_type": "stream",
     "text": [
      "100\n",
      "10\n"
     ]
    }
   ],
   "source": [
    "class MyClass(object):\n",
    "    def set_val(self, val):\n",
    "        self.value = val\n",
    "        \n",
    "    def get_val(self):\n",
    "        return self.value\n",
    "a = MyClass()\n",
    "b = MyClass()\n",
    "\n",
    "a.set_val(100)\n",
    "b.set_val(10)\n",
    "\n",
    "print(a.get_val())\n",
    "print(b.get_val())"
   ]
  },
  {
   "cell_type": "markdown",
   "id": "floating-parallel",
   "metadata": {},
   "source": [
    "Why do we use getter and setter functions as a gateway to set and get the values of the atrributes of instance instead of directly setting the values from outside the class."
   ]
  },
  {
   "cell_type": "markdown",
   "id": "compliant-kingston",
   "metadata": {},
   "source": [
    "Example:"
   ]
  },
  {
   "cell_type": "code",
   "execution_count": 29,
   "id": "trying-national",
   "metadata": {},
   "outputs": [
    {
     "name": "stdout",
     "output_type": "stream",
     "text": [
      "9\n",
      "9\n"
     ]
    }
   ],
   "source": [
    "class MyInteger(object):\n",
    "    def set_val(self, val):\n",
    "        try:\n",
    "            val = int(val)\n",
    "        except ValueError:\n",
    "            return\n",
    "        self.val = val\n",
    "        \n",
    "    def get_val(self):\n",
    "        return self.val;\n",
    "    \n",
    "    def increment_val(self):\n",
    "        self.val = self.val + 1\n",
    "\n",
    "i = MyInteger()\n",
    "i.set_val(9)\n",
    "print(i.get_val())\n",
    "i.set_val('hi')\n",
    "print(i.get_val())\n",
    "    \n",
    "\n"
   ]
  },
  {
   "cell_type": "markdown",
   "id": "convertible-problem",
   "metadata": {},
   "source": [
    "Now notice the problem with setting from outside."
   ]
  },
  {
   "cell_type": "code",
   "execution_count": 34,
   "id": "overall-mineral",
   "metadata": {},
   "outputs": [
    {
     "ename": "TypeError",
     "evalue": "can only concatenate str (not \"int\") to str",
     "output_type": "error",
     "traceback": [
      "\u001b[1;31m---------------------------------------------------------------------------\u001b[0m",
      "\u001b[1;31mTypeError\u001b[0m                                 Traceback (most recent call last)",
      "\u001b[1;32m<ipython-input-34-828392186ae0>\u001b[0m in \u001b[0;36m<module>\u001b[1;34m\u001b[0m\n\u001b[0;32m     15\u001b[0m \u001b[0mi\u001b[0m \u001b[1;33m=\u001b[0m \u001b[0mMyInteger\u001b[0m\u001b[1;33m(\u001b[0m\u001b[1;33m)\u001b[0m\u001b[1;33m\u001b[0m\u001b[1;33m\u001b[0m\u001b[0m\n\u001b[0;32m     16\u001b[0m \u001b[0mi\u001b[0m\u001b[1;33m.\u001b[0m\u001b[0mval\u001b[0m \u001b[1;33m=\u001b[0m \u001b[1;34m'hi'\u001b[0m\u001b[1;33m\u001b[0m\u001b[1;33m\u001b[0m\u001b[0m\n\u001b[1;32m---> 17\u001b[1;33m \u001b[0mprint\u001b[0m\u001b[1;33m(\u001b[0m\u001b[0mi\u001b[0m\u001b[1;33m.\u001b[0m\u001b[0mincrement_val\u001b[0m\u001b[1;33m(\u001b[0m\u001b[1;33m)\u001b[0m\u001b[1;33m)\u001b[0m\u001b[1;33m\u001b[0m\u001b[1;33m\u001b[0m\u001b[0m\n\u001b[0m\u001b[0;32m     18\u001b[0m \u001b[1;33m\u001b[0m\u001b[0m\n\u001b[0;32m     19\u001b[0m \u001b[1;33m\u001b[0m\u001b[0m\n",
      "\u001b[1;32m<ipython-input-34-828392186ae0>\u001b[0m in \u001b[0;36mincrement_val\u001b[1;34m(self)\u001b[0m\n\u001b[0;32m     11\u001b[0m \u001b[1;33m\u001b[0m\u001b[0m\n\u001b[0;32m     12\u001b[0m     \u001b[1;32mdef\u001b[0m \u001b[0mincrement_val\u001b[0m\u001b[1;33m(\u001b[0m\u001b[0mself\u001b[0m\u001b[1;33m)\u001b[0m\u001b[1;33m:\u001b[0m\u001b[1;33m\u001b[0m\u001b[1;33m\u001b[0m\u001b[0m\n\u001b[1;32m---> 13\u001b[1;33m         \u001b[0mself\u001b[0m\u001b[1;33m.\u001b[0m\u001b[0mval\u001b[0m \u001b[1;33m=\u001b[0m \u001b[0mself\u001b[0m\u001b[1;33m.\u001b[0m\u001b[0mval\u001b[0m \u001b[1;33m+\u001b[0m \u001b[1;36m1\u001b[0m\u001b[1;33m\u001b[0m\u001b[1;33m\u001b[0m\u001b[0m\n\u001b[0m\u001b[0;32m     14\u001b[0m \u001b[1;33m\u001b[0m\u001b[0m\n\u001b[0;32m     15\u001b[0m \u001b[0mi\u001b[0m \u001b[1;33m=\u001b[0m \u001b[0mMyInteger\u001b[0m\u001b[1;33m(\u001b[0m\u001b[1;33m)\u001b[0m\u001b[1;33m\u001b[0m\u001b[1;33m\u001b[0m\u001b[0m\n",
      "\u001b[1;31mTypeError\u001b[0m: can only concatenate str (not \"int\") to str"
     ]
    }
   ],
   "source": [
    "class MyInteger(object):\n",
    "    def set_val(self, val):\n",
    "        try:\n",
    "            val = int(val)\n",
    "        except ValueError:\n",
    "            return\n",
    "        self.val = val\n",
    "        \n",
    "    def get_val(self):\n",
    "        return self.val;\n",
    "    \n",
    "    def increment_val(self):\n",
    "        self.val = self.val + 1\n",
    "\n",
    "i = MyInteger()\n",
    "i.val = 'hi'\n",
    "print(i.increment_val())\n",
    "\n",
    "    \n",
    "\n"
   ]
  },
  {
   "cell_type": "markdown",
   "id": "under-clothing",
   "metadata": {},
   "source": [
    "By requiring the use of set val we are able to ensure the integrity of the data in the object."
   ]
  },
  {
   "cell_type": "markdown",
   "id": "threatened-cleanup",
   "metadata": {},
   "source": [
    "### The \\_\\_init\\_\\_ Constructor"
   ]
  },
  {
   "cell_type": "code",
   "execution_count": 35,
   "id": "analyzed-thomson",
   "metadata": {},
   "outputs": [
    {
     "name": "stdout",
     "output_type": "stream",
     "text": [
      "calling__init__\n",
      "22\n"
     ]
    }
   ],
   "source": [
    "class MyNum(object):\n",
    "    def __init__(self, value):\n",
    "        print('calling__init__')\n",
    "        self.val = value\n",
    "    def increment(self):\n",
    "        self.val += 1\n",
    "dd = MyNum(20)\n",
    "dd.increment()\n",
    "dd.increment()\n",
    "print(dd.val)\n"
   ]
  },
  {
   "cell_type": "markdown",
   "id": "adjustable-terrorist",
   "metadata": {},
   "source": [
    "Constructors can act as the first integrity gate, Since it is the first metho to be called the moment an instance is created."
   ]
  },
  {
   "cell_type": "code",
   "execution_count": 36,
   "id": "stretch-acceptance",
   "metadata": {},
   "outputs": [
    {
     "name": "stdout",
     "output_type": "stream",
     "text": [
      "2\n",
      "11\n"
     ]
    }
   ],
   "source": [
    "class MyNum(object):\n",
    "    def __init__(self, value):\n",
    "        try:\n",
    "            value = int(value)\n",
    "        except ValueError:\n",
    "            value = 0\n",
    "        self.val = value\n",
    "    def increment(self):\n",
    "        self.val += 1\n",
    "dd = MyNum('hello')\n",
    "bb = MyNum(10)\n",
    "dd.increment()\n",
    "dd.increment()\n",
    "bb.increment()\n",
    "print(dd.val)\n",
    "print(bb.val)\n"
   ]
  },
  {
   "cell_type": "markdown",
   "id": "opposite-metadata",
   "metadata": {},
   "source": [
    "### Class Attributes vs Instance Attributes"
   ]
  },
  {
   "cell_type": "code",
   "execution_count": 39,
   "id": "thousand-calibration",
   "metadata": {},
   "outputs": [
    {
     "name": "stdout",
     "output_type": "stream",
     "text": [
      "100\n",
      "10\n"
     ]
    }
   ],
   "source": [
    "class YourClass(object):\n",
    "    classy = 10\n",
    "    \n",
    "    def set_val(self):\n",
    "        self.insty = 100\n",
    "\n",
    "dd = YourClass()\n",
    "dd.set_val()\n",
    "print(dd.insty)\n",
    "print(dd.classy)"
   ]
  },
  {
   "cell_type": "markdown",
   "id": "chubby-combining",
   "metadata": {},
   "source": [
    "Lets break encapsulation and set an attribute in the instance. Lets call it the same name as the class attribute."
   ]
  },
  {
   "cell_type": "code",
   "execution_count": 40,
   "id": "welsh-stylus",
   "metadata": {},
   "outputs": [
    {
     "name": "stdout",
     "output_type": "stream",
     "text": [
      "class Value!\n",
      "inst Value!\n",
      "class Value!\n"
     ]
    }
   ],
   "source": [
    "class YourClass(object):\n",
    "    classy = 'class Value!'\n",
    "\n",
    "dd = YourClass()\n",
    "print(dd.classy)\n",
    "dd.classy = \"inst Value!\"\n",
    "print(dd.classy)\n",
    "del dd.classy\n",
    "print(dd.classy)"
   ]
  },
  {
   "cell_type": "markdown",
   "id": "decent-graduation",
   "metadata": {},
   "source": [
    "The above example proves that there exists an attribute lookup order. First in the instance and then in the class."
   ]
  },
  {
   "cell_type": "markdown",
   "id": "limited-serve",
   "metadata": {},
   "source": [
    "### How Class data relates to instance data.\n",
    "\n",
    "- When to store data in class.\n",
    "- When to store data in instance."
   ]
  },
  {
   "cell_type": "markdown",
   "id": "color-tractor",
   "metadata": {},
   "source": [
    "Class Data is the data which is intende to be shared among instances."
   ]
  },
  {
   "cell_type": "code",
   "execution_count": 42,
   "id": "composite-facial",
   "metadata": {},
   "outputs": [
    {
     "name": "stdout",
     "output_type": "stream",
     "text": [
      "val of obj: 5\n",
      "count: 3\n",
      "val of obj: 13\n",
      "count: 3\n",
      "val of obj: 17\n",
      "count: 3\n"
     ]
    }
   ],
   "source": [
    "class InstanceCounter(object):\n",
    "    count = 0\n",
    "    \n",
    "    def __init__(self, val):\n",
    "        self.val = val\n",
    "        InstanceCounter.count += 1\n",
    "    \n",
    "    def set_val(self, newval):\n",
    "        self.val = newval\n",
    "        \n",
    "    def get_val(self):\n",
    "        return self.val\n",
    "    \n",
    "    def get_count(self):\n",
    "        return InstanceCounter.count\n",
    "    \n",
    "a = InstanceCounter(5)\n",
    "b = InstanceCounter(13)\n",
    "c = InstanceCounter(17)\n",
    "\n",
    "for obj in (a, b, c):\n",
    "    print(\"val of obj: %s\" %(obj.get_val()))\n",
    "    print(\"count: %s\" %(obj.get_count()))\n",
    "\n",
    "\n",
    "        "
   ]
  }
 ],
 "metadata": {
  "kernelspec": {
   "display_name": "Python 3",
   "language": "python",
   "name": "python3"
  },
  "language_info": {
   "codemirror_mode": {
    "name": "ipython",
    "version": 3
   },
   "file_extension": ".py",
   "mimetype": "text/x-python",
   "name": "python",
   "nbconvert_exporter": "python",
   "pygments_lexer": "ipython3",
   "version": "3.9.2"
  }
 },
 "nbformat": 4,
 "nbformat_minor": 5
}
